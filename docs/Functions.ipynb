{
 "cells": [
  {
   "cell_type": "code",
   "execution_count": 4,
   "metadata": {},
   "outputs": [],
   "source": [
    "import os\n",
    "import sys\n",
    "import uuid\n",
    "\n",
    "pipeline_dir = os.path.join(os.getcwd(), '..')\n",
    "if pipeline_dir not in sys.path:\n",
    "    sys.path.append(pipeline_dir)"
   ]
  },
  {
   "cell_type": "code",
   "execution_count": 5,
   "metadata": {},
   "outputs": [],
   "source": [
    "from pipeline import Pipeline, events, functions"
   ]
  },
  {
   "cell_type": "markdown",
   "metadata": {},
   "source": [
    "# Functions\n",
    "## Defining Functions\n",
    "You can define a lambda function by declaring a method inside your `pipeline.Pipeline` object.  The method must be decorated with an event decorator to be considered a decorator."
   ]
  },
  {
   "cell_type": "code",
   "execution_count": 6,
   "metadata": {},
   "outputs": [],
   "source": [
    "class MyPipeline(Pipeline):\n",
    "    \n",
    "    def __init__(self):\n",
    "        super().__init__()\n",
    "    \n",
    "    @events.invoke\n",
    "    def lambda_func(self, event, context):\n",
    "        print(event)\n",
    "\n",
    "pipeline = MyPipeline()"
   ]
  },
  {
   "cell_type": "markdown",
   "metadata": {},
   "source": [
    "You can use arguments to customize more complex events:"
   ]
  },
  {
   "cell_type": "code",
   "execution_count": 7,
   "metadata": {},
   "outputs": [],
   "source": [
    "@events.http(method=\"get\", path=\"todos\", cors=\"true\")\n",
    "def lambda_func_http(self, event, context):\n",
    "    print(event)"
   ]
  },
  {
   "cell_type": "markdown",
   "metadata": {},
   "source": [
    "You can customize your function's runtime configuration with more decorators:"
   ]
  },
  {
   "cell_type": "code",
   "execution_count": 8,
   "metadata": {},
   "outputs": [],
   "source": [
    "@events.invoke\n",
    "@functions.timeout(30) # Specify function's timeout in seconds\n",
    "@functions.memory(3008) # Specify function's memory limit in MB\n",
    "def lambda_func(self, event, context):\n",
    "    print(event)"
   ]
  },
  {
   "cell_type": "markdown",
   "metadata": {},
   "source": [
    "## Writing Functions\n",
    "#### Input Handling\n",
    "The event decorator used by the pipeline method modifies the input event message.  For example, the `HTTP POST` decorator modifies the original message by calling `json.loads(event['body'])` and passing the resulting dictionary to your pipeline method.  This feature is intended for QOL, as input messaging parsing happens automatically and lambda functions.  You may use the `legacy` input parameter to disable this behavior."
   ]
  },
  {
   "cell_type": "code",
   "execution_count": 9,
   "metadata": {},
   "outputs": [],
   "source": [
    "@events.http(method=\"post\", path=\"todos\", cors=\"true\")\n",
    "def lambda_func(self, event, contet):\n",
    "    assert type(event) == dict\n",
    "\n",
    "@events.http(method=\"post\", path=\"todos\", cors=\"true\", legacy=True)\n",
    "def lambda_func(self, event, contet):\n",
    "    assert type(event) == str"
   ]
  },
  {
   "cell_type": "markdown",
   "metadata": {},
   "source": [
    "#### Output Handling\n",
    "The output of your lambda function is determined by your pipeline method's return statement.  Please be careful to ensure that functions are returning the appropriate output for the event type.  For example, any HTTP response must be of the form `json.dumps({'statusCode': 200, 'body': 'return_message'})`\n",
    "\n",
    "Not all functions require a return statement.  A lambda function which simply relays a message to a SNS Topic does not have a meaningful return other than to confirm the message was sent succesfully."
   ]
  },
  {
   "cell_type": "markdown",
   "metadata": {},
   "source": [
    "## Helper Functions\n",
    "Only methods decorated with an event trigger are considered lambda functions.  You may define other helper methods used by your pipeline:"
   ]
  },
  {
   "cell_type": "code",
   "execution_count": 12,
   "metadata": {},
   "outputs": [],
   "source": [
    "class MyPipeline(Pipeline):\n",
    "    \n",
    "    def __init__(self):\n",
    "        super().__init__()\n",
    "    \n",
    "    def helper_function(self):\n",
    "        return \"Hello World!\"\n",
    "    \n",
    "    @events.invoke\n",
    "    def lambda_func(self, event, context):\n",
    "        response = self.helper_function()\n",
    "        print(response)"
   ]
  },
  {
   "cell_type": "markdown",
   "metadata": {},
   "source": [
    "## Deploying Functions\n",
    "AWS Lambda forbids declaring a class function as a handler.  This means we need to add entrypoints to the bottom of our python file.  Make sure that the declared variable has the same name as your function.  This will allow your functions to be deployed succesfully."
   ]
  },
  {
   "cell_type": "code",
   "execution_count": 10,
   "metadata": {},
   "outputs": [],
   "source": [
    "lambda_func = pipeline.lambda_func"
   ]
  }
 ],
 "metadata": {
  "kernelspec": {
   "display_name": "Python 3",
   "language": "python",
   "name": "python3"
  },
  "language_info": {
   "codemirror_mode": {
    "name": "ipython",
    "version": 3
   },
   "file_extension": ".py",
   "mimetype": "text/x-python",
   "name": "python",
   "nbconvert_exporter": "python",
   "pygments_lexer": "ipython3",
   "version": "3.6.7"
  }
 },
 "nbformat": 4,
 "nbformat_minor": 2
}
