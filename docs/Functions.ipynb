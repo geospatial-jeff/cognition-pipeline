{
 "cells": [
  {
   "cell_type": "code",
   "execution_count": 1,
   "metadata": {},
   "outputs": [],
   "source": [
    "import os\n",
    "import sys\n",
    "import uuid\n",
    "\n",
    "pipeline_dir = os.path.join(os.getcwd(), '..')\n",
    "if pipeline_dir not in sys.path:\n",
    "    sys.path.append(pipeline_dir)"
   ]
  },
  {
   "cell_type": "code",
   "execution_count": 2,
   "metadata": {},
   "outputs": [],
   "source": [
    "from pipeline import Pipeline, events, functions"
   ]
  },
  {
   "cell_type": "markdown",
   "metadata": {},
   "source": [
    "# Functions\n",
    "## Defining Functions\n",
    "You can define a lambda function by declaring a method inside your `pipeline.Pipeline` object.  The method must be decorated with an event decorator."
   ]
  },
  {
   "cell_type": "code",
   "execution_count": 3,
   "metadata": {},
   "outputs": [],
   "source": [
    "class MyPipeline(Pipeline):\n",
    "    \n",
    "    def __init__(self):\n",
    "        super().__init__(name=\"defining-functions\")\n",
    "    \n",
    "    @events.invoke\n",
    "    def lambda_func(self, event, context):\n",
    "        print(event)\n",
    "\n",
    "pipeline = MyPipeline()"
   ]
  },
  {
   "cell_type": "markdown",
   "metadata": {},
   "source": [
    "You can use arguments to customize more complex events:"
   ]
  },
  {
   "cell_type": "code",
   "execution_count": 11,
   "metadata": {},
   "outputs": [],
   "source": [
    "@events.http(method=\"get\", path=\"todos\", cors=\"true\")\n",
    "def lambda_func_http(self, event, context):\n",
    "    print(event)"
   ]
  },
  {
   "cell_type": "markdown",
   "metadata": {},
   "source": [
    "You can customize your function's runtime configuration with more decorators:"
   ]
  },
  {
   "cell_type": "code",
   "execution_count": 12,
   "metadata": {},
   "outputs": [],
   "source": [
    "@events.invoke\n",
    "@functions.timeout(30) # Specify function's timeout in seconds\n",
    "@functions.memory(3008) # Specify function's memory limit in MB\n",
    "def lambda_func(self, event, context):\n",
    "    print(event)"
   ]
  },
  {
   "cell_type": "markdown",
   "metadata": {},
   "source": [
    "## Writing Functions\n",
    "#### Input Handling\n",
    "The event decorator used by the pipeline method modifies the input event message.  For example, the `HTTP POST` decorator modifies the original message by calling `json.loads(event['body'])` and passing the resulting dictionary to your pipeline method.  This feature is intended for QOL, as input messaging parsing happens automatically and lambda functions.  You may use the `legacy` input parameter to disable this behavior."
   ]
  },
  {
   "cell_type": "code",
   "execution_count": 13,
   "metadata": {},
   "outputs": [],
   "source": [
    "@events.http(method=\"post\", path=\"todos\", cors=\"true\")\n",
    "def lambda_func(self, event, contet):\n",
    "    assert type(event) == dict\n",
    "\n",
    "@events.http(method=\"post\", path=\"todos\", cors=\"true\", legacy=True)\n",
    "def lambda_func(self, event, contet):\n",
    "    assert type(event) == str"
   ]
  },
  {
   "cell_type": "markdown",
   "metadata": {},
   "source": [
    "#### Output Handling\n",
    "The output of your lambda function is determined by your pipeline method's return statement.  Please be careful to ensure that functions are returning the appropriate output for the event type.  For example, any HTTP response must be of the form `json.dumps({'statusCode': 200, 'body': 'return_message'})`\n",
    "\n",
    "Not all functions require a return statement.  A lambda function which simply relays a message to a SNS Topic does not have a meaningful return."
   ]
  },
  {
   "cell_type": "markdown",
   "metadata": {},
   "source": [
    "#### Function Handling\n",
    "When instantiated, the pipeline object stores all lambda functions in the `functions` attribute:"
   ]
  },
  {
   "cell_type": "code",
   "execution_count": 14,
   "metadata": {},
   "outputs": [
    {
     "name": "stdout",
     "output_type": "stream",
     "text": [
      "{'lambda_func': <pipeline.functions.Function object at 0x7f9a8c238c50>}\n"
     ]
    }
   ],
   "source": [
    "print(pipeline.functions.all)"
   ]
  },
  {
   "cell_type": "markdown",
   "metadata": {},
   "source": [
    "You can access particular lambda functions using the method's name:"
   ]
  },
  {
   "cell_type": "code",
   "execution_count": 17,
   "metadata": {},
   "outputs": [],
   "source": [
    "my_lambda = pipeline.functions['lambda_func']"
   ]
  },
  {
   "cell_type": "markdown",
   "metadata": {},
   "source": [
    "Once your pipeline is deployed to AWS, you can invoke a particular lambda function using the function's `invoke` method to activate the lambda function's trigger.  The input to `invoke` changes based on the event type."
   ]
  },
  {
   "cell_type": "code",
   "execution_count": 20,
   "metadata": {},
   "outputs": [
    {
     "name": "stdout",
     "output_type": "stream",
     "text": [
      "Invocation failed\n"
     ]
    }
   ],
   "source": [
    "# This cell will fail (pipeline is not deployed to AWS)\n",
    "try:\n",
    "    my_lambda.invoke({'testing': '123'})\n",
    "except:\n",
    "    print(\"Invocation failed\")\n",
    "    pass"
   ]
  },
  {
   "cell_type": "code",
   "execution_count": null,
   "metadata": {},
   "outputs": [],
   "source": []
  }
 ],
 "metadata": {
  "kernelspec": {
   "display_name": "Python 3",
   "language": "python",
   "name": "python3"
  },
  "language_info": {
   "codemirror_mode": {
    "name": "ipython",
    "version": 3
   },
   "file_extension": ".py",
   "mimetype": "text/x-python",
   "name": "python",
   "nbconvert_exporter": "python",
   "pygments_lexer": "ipython3",
   "version": "3.6.7"
  }
 },
 "nbformat": 4,
 "nbformat_minor": 2
}
