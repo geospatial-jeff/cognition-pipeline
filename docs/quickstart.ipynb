{
 "cells": [
  {
   "cell_type": "code",
   "execution_count": 15,
   "metadata": {},
   "outputs": [],
   "source": [
    "import os\n",
    "import sys\n",
    "import uuid\n",
    "\n",
    "pipeline_dir = os.path.join(os.getcwd(), '..')\n",
    "if pipeline_dir not in sys.path:\n",
    "    sys.path.append(pipeline_dir)"
   ]
  },
  {
   "cell_type": "code",
   "execution_count": 3,
   "metadata": {},
   "outputs": [],
   "source": [
    "from pipeline import Pipeline, events, resources"
   ]
  },
  {
   "cell_type": "markdown",
   "metadata": {},
   "source": [
    "# Getting Started\n",
    "You can create a new project with the `pipeline-create <new_directory>` which generates a template project in a new directory.  Edit the `handler.py` file to build your pipeline."
   ]
  },
  {
   "cell_type": "markdown",
   "metadata": {},
   "source": [
    "# Building a Pipeline\n",
    "Pipelines are made up of lambda functions, events, resources, and services.  Let us start by defining an empty pipeline by inheriting from the base class."
   ]
  },
  {
   "cell_type": "code",
   "execution_count": 20,
   "metadata": {},
   "outputs": [],
   "source": [
    "class MyFirstPipeline(Pipeline):\n",
    "    \n",
    "    def __init__(self):\n",
    "        super().__init__(name=\"my-first-pipeline\")"
   ]
  },
  {
   "cell_type": "markdown",
   "metadata": {},
   "source": [
    "## Define a Function\n",
    "We can define a lambda function by defining a class method decorated with an event trigger.  The decorator determines how the lambda function is executed.  Let's write a simple \"Hello World\" function triggered with a GET request."
   ]
  },
  {
   "cell_type": "code",
   "execution_count": 17,
   "metadata": {},
   "outputs": [],
   "source": [
    "class MyFirstPipeline(Pipeline):\n",
    "    \n",
    "    def __init__(self):\n",
    "        super().__init__(name=\"my-first-pipeline\")\n",
    "    \n",
    "    @events.http(method=\"get\", path=\"helloworld\", cors=\"true\")\n",
    "    def hello_world(self, event, context):\n",
    "        print(\"Hello World!\")"
   ]
  },
  {
   "cell_type": "markdown",
   "metadata": {},
   "source": [
    "## Define a Resource\n",
    "All that is required to build a working pipeline is a pipeline and at least one lambda function with an event trigger.  If we want our pipeline to interact with other AWS resources we may define a resource.  Let's define a DynamoDB table which we will use to store messages:"
   ]
  },
  {
   "cell_type": "code",
   "execution_count": 10,
   "metadata": {},
   "outputs": [],
   "source": [
    "class MyTable(resources.DynamoDB):\n",
    "    \n",
    "    def __init__(self):\n",
    "        super().__init__()\n",
    "        self.add_attribute('id', 'S')\n",
    "        self.add_key('id', 'HASH')"
   ]
  },
  {
   "cell_type": "markdown",
   "metadata": {},
   "source": [
    "We will also edit our original lam|bda function to take user input in the GET request.  We can register our newly created resource by instantiating and passing into the call to `super`.  Additionally, resources provide helper methods for interacting with the resource.  The DynamoDB resource, for example, inherits the `put`, `get`, `delete`, and `list` methods."
   ]
  },
  {
   "cell_type": "code",
   "execution_count": 16,
   "metadata": {},
   "outputs": [],
   "source": [
    "table = MyTable()\n",
    "\n",
    "class MyFirstPipeline(Pipeline):\n",
    "    \n",
    "    def __init__(self):\n",
    "        super().__init__(name=\"my-first-pipeline\",\n",
    "                         resources=[table])\n",
    "    \n",
    "    @events.http(method=\"get\", path=\"helloworld/{message}\", cors=\"true\")\n",
    "    def hello_world(self, event, context):\n",
    "        item = {'id': str(uuid.uuid1),\n",
    "                'message': event['message']\n",
    "               }\n",
    "        # Use helper method\n",
    "        table.put(item)"
   ]
  },
  {
   "cell_type": "markdown",
   "metadata": {},
   "source": [
    "## Packaging\n",
    "Now that your pipeline is built, we need to do some final packaging before we can deploy.  Because lambda can't call functions inside of classes, we need to add wrappers for each function handler.  Additionally, we need to add a deploy wrapper for deploying the pipeline.  Once finished your project should look something like `cognition-pipeline/examples/quickstart/`."
   ]
  },
  {
   "cell_type": "code",
   "execution_count": 19,
   "metadata": {},
   "outputs": [],
   "source": [
    "#Instantiate your pipeline\n",
    "pipeline = MyFirstPipeline()\n",
    "\n",
    "def hello_world(event, context):\n",
    "    pipeline.hello_world(event, context)\n",
    "\n",
    "def deploy():\n",
    "    pipeline.deploy()"
   ]
  },
  {
   "cell_type": "markdown",
   "metadata": {},
   "source": [
    "## Requirements\n",
    "Requirements may either be added to `requirements.txt` or handled through the use of services."
   ]
  },
  {
   "cell_type": "markdown",
   "metadata": {},
   "source": [
    "## Deploying\n",
    "Once your pipeline is packaged it is time to deploy!  Use the `pipeline-deploy <pipeline_directory>` to generate a `serverless.yml` file which may be deployed with Serverless Framework."
   ]
  },
  {
   "cell_type": "markdown",
   "metadata": {},
   "source": [
    "## Testing\n",
    "Once deployed, send a GET request to your function's endpoint with a customized message.  You can now go into the AWS console and find your message in your DynamoDB table.  Better yet, you could write a second lambda function to return all messages in the table:"
   ]
  },
  {
   "cell_type": "code",
   "execution_count": 22,
   "metadata": {},
   "outputs": [],
   "source": [
    "class MyFirstPipeline(Pipeline):\n",
    "    \n",
    "    def __init__(self):\n",
    "        super().__init__(name=\"my-first-pipeline\",\n",
    "                         resources=[table])\n",
    "    \n",
    "    @events.http(method=\"get\", path=\"helloworld/{message}\", cors=\"true\")\n",
    "    def hello_world(self, event, context):\n",
    "        item = {'id': str(uuid.uuid1),\n",
    "                'message': event['message']\n",
    "               }\n",
    "        # Use helper method\n",
    "        table.put(item)\n",
    "    \n",
    "    @events.http(method=\"get\", path=\"helloworld\", cors=\"true\")\n",
    "    def list_messages(self, event, context):\n",
    "        messages = table.list()\n",
    "        resp = {'statusCode': 200,\n",
    "                'body': json.dumps(messages)}\n",
    "        return messages\n",
    "\n",
    "pipeline = MyFirstPipeline()\n",
    "\n",
    "def hello_world(event, context):\n",
    "    pipeline.hello_world(event, context)\n",
    "\n",
    "def list_messages(event, context):\n",
    "    resp = pipeline.list_messages(event, context)\n",
    "    return resp\n",
    "\n",
    "def deploy():\n",
    "    pipeline.deploy()"
   ]
  }
 ],
 "metadata": {
  "kernelspec": {
   "display_name": "Python 2",
   "language": "python",
   "name": "python2"
  },
  "language_info": {
   "codemirror_mode": {
    "name": "ipython",
    "version": 3
   },
   "file_extension": ".py",
   "mimetype": "text/x-python",
   "name": "python",
   "nbconvert_exporter": "python",
   "pygments_lexer": "ipython3",
   "version": "3.6.7"
  }
 },
 "nbformat": 4,
 "nbformat_minor": 1
}
