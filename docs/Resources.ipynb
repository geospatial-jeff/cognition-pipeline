{
 "cells": [
  {
   "cell_type": "code",
   "execution_count": 36,
   "metadata": {},
   "outputs": [],
   "source": [
    "import os\n",
    "import sys\n",
    "import uuid\n",
    "\n",
    "pipeline_dir = os.path.join(os.getcwd(), '..')\n",
    "if pipeline_dir not in sys.path:\n",
    "    sys.path.append(pipeline_dir)"
   ]
  },
  {
   "cell_type": "code",
   "execution_count": 37,
   "metadata": {},
   "outputs": [],
   "source": [
    "from pipeline import Pipeline, events, resources"
   ]
  },
  {
   "cell_type": "markdown",
   "metadata": {},
   "source": [
    "# Resources\n",
    "Resources represent the AWS resources (SQS, SNS, DynamoDB etc.) used by your pipeline.\n",
    "## Defining Resources\n",
    "You can define a resource by creating a new class inheriting from the appropriate resources object"
   ]
  },
  {
   "cell_type": "code",
   "execution_count": 57,
   "metadata": {},
   "outputs": [
    {
     "name": "stdout",
     "output_type": "stream",
     "text": [
      "['DynamoDB', 'S3Bucket', 'SNSPolicy', 'SNSTopic', 'SQSPolicy', 'SQSQueue', 'ServerlessResource']\n"
     ]
    }
   ],
   "source": [
    "def _getattr(obj, name):\n",
    "    try:\n",
    "        return getattr(obj, name)()\n",
    "    except:\n",
    "        pass\n",
    "\n",
    "print([x for x in dir(resources) if hasattr(_getattr(resources, x), 'name')])"
   ]
  },
  {
   "cell_type": "code",
   "execution_count": 58,
   "metadata": {},
   "outputs": [
    {
     "name": "stdout",
     "output_type": "stream",
     "text": [
      "{'Type': 'AWS::SNS::Topic', 'Properties': {'TopicName': 'MyTopic'}}\n"
     ]
    }
   ],
   "source": [
    "# Creating a SNS Topic\n",
    "class MyTopic(resources.SNSTopic):\n",
    "    \n",
    "    def __init__(self):\n",
    "        super().__init__()\n",
    "\n",
    "my_topic = MyTopic()\n",
    "print(my_topic)"
   ]
  },
  {
   "cell_type": "markdown",
   "metadata": {},
   "source": [
    "## Customizing Resources"
   ]
  },
  {
   "cell_type": "markdown",
   "metadata": {},
   "source": [
    "The resource is a wrapper of its respective CloudFormation template.  The template, by default, contains the minimum required information to create a valid AWS resource.  You can customize your resource's CloudFormation template using it's dict interface:"
   ]
  },
  {
   "cell_type": "code",
   "execution_count": 59,
   "metadata": {},
   "outputs": [
    {
     "name": "stdout",
     "output_type": "stream",
     "text": [
      "{'Type': 'AWS::SNS::Topic', 'Properties': {'TopicName': 'MyTopic', 'DisplayName': 'MyDisplayName'}}\n"
     ]
    }
   ],
   "source": [
    "# Creating a SNS Topic\n",
    "class MyTopic(resources.SNSTopic):\n",
    "    \n",
    "    def __init__(self):\n",
    "        super().__init__()\n",
    "        # Adding a display name\n",
    "        self['Properties'].update({'DisplayName': 'MyDisplayName'})\n",
    "\n",
    "my_topic = MyTopic()\n",
    "print(my_topic)"
   ]
  },
  {
   "cell_type": "markdown",
   "metadata": {},
   "source": [
    "Some resources inherit helper methods used to create the resource."
   ]
  },
  {
   "cell_type": "code",
   "execution_count": 60,
   "metadata": {},
   "outputs": [
    {
     "name": "stdout",
     "output_type": "stream",
     "text": [
      "{'Type': 'AWS::DynamoDB::Table', 'Properties': {'TableName': 'MyTable', 'AttributeDefinitions': [{'AttributeName': 'id', 'AttributeType': 'S'}], 'KeySchema': [{'AttributeName': 'id', 'KeyType': 'HASH'}], 'ProvisionedThroughput': {'ReadCapacityUnits': 1, 'WriteCapacityUnits': 1}}}\n"
     ]
    }
   ],
   "source": [
    "class MyTable(resources.DynamoDB):\n",
    "\n",
    "    def __init__(self):\n",
    "        super().__init__()\n",
    "        # Define an attribute and primary key field\n",
    "        self.add_attribute('id', 'S')\n",
    "        self.add_key('id', 'HASH')\n",
    "\n",
    "my_table = MyTable()\n",
    "print(my_table)"
   ]
  },
  {
   "cell_type": "markdown",
   "metadata": {},
   "source": [
    "## Utilizing Resources\n",
    "To use a resource in your pipeline, instantiate the class and pass into your pipeline"
   ]
  },
  {
   "cell_type": "code",
   "execution_count": 61,
   "metadata": {},
   "outputs": [],
   "source": [
    "class MyPipeline(Pipeline):\n",
    "    \n",
    "    def __init__(self):\n",
    "        super().__init__(resources=[my_topic, my_table])"
   ]
  },
  {
   "cell_type": "markdown",
   "metadata": {},
   "source": [
    "Resources can be the target of event triggers"
   ]
  },
  {
   "cell_type": "code",
   "execution_count": 62,
   "metadata": {},
   "outputs": [],
   "source": [
    "class MyPipeline(Pipeline):\n",
    "    \n",
    "    def __init__(self):\n",
    "        super().__init__(resources=[my_topic, my_table])\n",
    "    \n",
    "    @events.sns(resource=my_topic)\n",
    "    def sns_trigger(self, event, context):\n",
    "        print(event)"
   ]
  },
  {
   "cell_type": "markdown",
   "metadata": {},
   "source": [
    "Some resources inherit helper methods for interacting with the resource."
   ]
  },
  {
   "cell_type": "code",
   "execution_count": 63,
   "metadata": {},
   "outputs": [],
   "source": [
    "class MyPipeline(Pipeline):\n",
    "    \n",
    "    def __init__(self):\n",
    "        super().__init__(resources=[my_topic, my_table])\n",
    "    \n",
    "    @events.sns(resource=my_topic)\n",
    "    def sns_trigger(self, event, context):\n",
    "        # Log event in DynamoDB table\n",
    "        my_table.put(event)"
   ]
  }
 ],
 "metadata": {
  "kernelspec": {
   "display_name": "Python 3",
   "language": "python",
   "name": "python3"
  },
  "language_info": {
   "codemirror_mode": {
    "name": "ipython",
    "version": 3
   },
   "file_extension": ".py",
   "mimetype": "text/x-python",
   "name": "python",
   "nbconvert_exporter": "python",
   "pygments_lexer": "ipython3",
   "version": "3.6.7"
  }
 },
 "nbformat": 4,
 "nbformat_minor": 2
}
