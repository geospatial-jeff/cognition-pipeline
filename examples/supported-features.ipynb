{
 "cells": [
  {
   "cell_type": "markdown",
   "metadata": {
    "collapsed": true
   },
   "source": [
    "# Supported Features\n",
    "\n",
    "### Resources:\n",
    "- SNS Topic\n",
    "- SNS Policy\n",
    "- SQS Queue\n",
    "- SQS Policy\n",
    "- S3 Bucket\n",
    "- DynamoDB Table\n",
    "\n",
    "### Events:\n",
    "- invoke\n",
    "- http\n",
    "- sns\n",
    "- sqs\n",
    "- s3 bucket notification"
   ]
  }
 ],
 "metadata": {
  "kernelspec": {
   "display_name": "Python 2",
   "language": "python",
   "name": "python2"
  },
  "language_info": {
   "codemirror_mode": {
    "name": "ipython",
    "version": 3
   },
   "file_extension": ".py",
   "mimetype": "text/x-python",
   "name": "python",
   "nbconvert_exporter": "python",
   "pygments_lexer": "ipython3",
   "version": "3.6.7"
  }
 },
 "nbformat": 4,
 "nbformat_minor": 1
}
